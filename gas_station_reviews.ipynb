{
 "cells": [
  {
   "cell_type": "code",
   "execution_count": 1,
   "metadata": {},
   "outputs": [],
   "source": [
    "import pandas as pd\n",
    "import numpy as np\n",
    "import seaborn as sns\n",
    "\n",
    "#scraping\n",
    "import requests\n",
    "import os\n",
    "from bs4 import BeautifulSoup\n",
    "from random import randint\n",
    "from time import sleep\n",
    "\n",
    "#nlp\n",
    "import nltk\n",
    "import rutokenizer\n",
    "import rupostagger\n",
    "import rulemma\n",
    "import string\n",
    "from collections import Counter\n",
    "from nltk.corpus import stopwords\n",
    "from sklearn.feature_extraction.text import TfidfVectorizer\n",
    "from sklearn.cluster import KMeans"
   ]
  },
  {
   "cell_type": "code",
   "execution_count": 2,
   "metadata": {},
   "outputs": [],
   "source": [
    "%matplotlib inline\n",
    "%config InlineBackend.figure_format=\"retina\"\n",
    "\n",
    "sns.set(style=\"whitegrid\")\n",
    "sns.set_context(\"notebook\", font_scale=1.5)\n",
    "\n",
    "pd.options.display.max_rows = 999\n",
    "pd.options.display.max_columns = 999"
   ]
  },
  {
   "cell_type": "code",
   "execution_count": null,
   "metadata": {},
   "outputs": [],
   "source": []
  },
  {
   "cell_type": "markdown",
   "metadata": {},
   "source": [
    "# Save all reviews"
   ]
  },
  {
   "cell_type": "code",
   "execution_count": 4,
   "metadata": {},
   "outputs": [],
   "source": [
    "page_list = os.listdir(path=\"source_1\")"
   ]
  },
  {
   "cell_type": "code",
   "execution_count": 5,
   "metadata": {},
   "outputs": [],
   "source": [
    "def get_reviews_urls(page_list):\n",
    "    urls = []\n",
    "    for page in page_list:\n",
    "        with open('source_1/'+page) as fp:\n",
    "            soup = BeautifulSoup(fp)\n",
    "            urls_reviews = soup.find_all(\"a\", class_=\"review-btn review-read-link\")\n",
    "            for tag in urls_reviews:\n",
    "                urls.append(tag.attrs['href'])\n",
    "    return urls"
   ]
  },
  {
   "cell_type": "code",
   "execution_count": 6,
   "metadata": {},
   "outputs": [],
   "source": [
    "urls = get_reviews_urls(page_list)"
   ]
  },
  {
   "cell_type": "code",
   "execution_count": 229,
   "metadata": {},
   "outputs": [],
   "source": [
    "def save_urls(urls):\n",
    "    for url in urls:\n",
    "        file_name = url[20:]\n",
    "        cookies = {'ssid':'1160706392', \n",
    "                   'refreg': url,\n",
    "                   '__gads':'ID=e63abff673803598:T=1583922601:S=ALNI_Mbvb7AStYcfGqBuImET-MTYHNuUxg', \n",
    "                   'ROBINBOBIN':'9gfghrcmbvpa9g85u7759ottj4'}\n",
    "        headers = {'User-Agent': 'Mozilla/5.0 (X11; Ubuntu; Linux x86_64; rv:73.0) Gecko/20100101 Firefox/73.0'}\n",
    "    \n",
    "        r = requests.get(url, headers = headers, cookies = cookies)\n",
    "        with open('source_2/'+file_name, 'w') as output_file:\n",
    "            output_file.write(r.text)\n",
    "            sleep(randint(1,5))"
   ]
  },
  {
   "cell_type": "code",
   "execution_count": 230,
   "metadata": {},
   "outputs": [],
   "source": [
    "# you can not run this cell, becouse the pages are already saved in source_2\n",
    "save_urls(urls)"
   ]
  },
  {
   "cell_type": "markdown",
   "metadata": {},
   "source": [
    "# Make dataset"
   ]
  },
  {
   "cell_type": "code",
   "execution_count": 7,
   "metadata": {},
   "outputs": [],
   "source": [
    "def make_dataset(urls):\n",
    "\n",
    "    rows_list = []\n",
    "    \n",
    "    for url in urls:\n",
    "        file_name = url[20:]\n",
    "        with open('source_2/'+file_name) as fp:\n",
    "            soup = BeautifulSoup(fp)\n",
    " \n",
    "        user_name = soup.find_all(\"span\", itemprop=\"name\")[1].text.strip()\n",
    "        if ',' in soup.find(\"div\", class_=\"user-location\").text.strip():\n",
    "            user_country, user_city = soup.find(\"div\", class_=\"user-location\").text.strip().split(',')\n",
    "        else:\n",
    "            user_country = soup.find(\"div\", class_=\"user-location\").text.strip()\n",
    "            user_city = np.nan\n",
    "            \n",
    "        user_karma = soup.find(\"div\", class_=[\"karma karma1\", \"karma karma0\", \"karma karma-1\"]).text.strip()\n",
    "\n",
    "        date_review = soup.find_all(\"span\", class_=\"tooltip-right\")[1].text.strip()\n",
    "        title_review = soup.find(\"h1\").text.strip()[soup.find(\"h1\").text.strip().index(') -')+4:]\n",
    "        plus_review = soup.find(\"div\", class_=\"review-plus\").text.strip()\n",
    "        minus_review = soup.find(\"div\", class_=\"review-minus\").text.strip()\n",
    "        body_review = soup.find(\"div\", class_=\"review-body description\").text.strip()\n",
    "        coment_count_review = soup.find(\"h3\").text.strip().split('(')[1][:-1]\n",
    "        \n",
    "        if len(soup.table.contents[1].text.strip())!=0:\n",
    "            dict_station = {}\n",
    "            for i in range(len(soup.table.contents[1].find_all('td'))):\n",
    "                if i%2==0:\n",
    "                    dict_station[soup.table.contents[1].find_all('td')[i].text.strip()]=\\\n",
    "                    soup.table.contents[1].find_all('td')[i+1].text.strip()\n",
    "        \n",
    "                    if 'Страна:' in dict_station.keys():\n",
    "                        country_station = dict_station['Страна:']\n",
    "                    else:\n",
    "                        country_station = np.nan\n",
    "                    if 'Регион (край, область, штат):' in dict_station.keys():\n",
    "                        region_station = dict_station['Регион (край, область, штат):']\n",
    "                    else:\n",
    "                        region_station = np.nan\n",
    "                    if 'Район:' in dict_station.keys():\n",
    "                        district_station = dict_station['Район:']\n",
    "                    else:\n",
    "                        district_station = np.nan\n",
    "                    if 'Город или поселок:' in dict_station.keys():\n",
    "                        city_station = dict_station['Город или поселок:']\n",
    "                    else:\n",
    "                        city_station = np.nan\n",
    "                    if 'Улица:' in dict_station.keys():\n",
    "                        street_station = dict_station['Улица:']\n",
    "                    else:\n",
    "                        street_station = np.nan\n",
    "                    if 'Дом №:' in dict_station.keys():\n",
    "                        house_station = dict_station['Дом №:']\n",
    "                    else:\n",
    "                        house_station = np.nan        \n",
    "\n",
    "        result_review = soup.find(\"i\", class_=\"summary\").text.strip()\n",
    "        result_rating = soup.find(\"abbr\", class_=\"rating\").attrs['title']\n",
    "        \n",
    "        if len(soup.find_all(\"td\", class_=\"recommend-ratio yes\")) == 1:\n",
    "            result_recomendation = soup.find_all(\"td\", class_=\"recommend-ratio yes\")[0].text.strip()\n",
    "        else:\n",
    "            result_recomendation = 'НЕТ'\n",
    "            \n",
    "        if len(soup.find_all(\"div\", class_=\"rating-item tooltip-top\"))==5:\n",
    "            price_mark = soup.find_all(\"div\", class_=\"rating-item tooltip-top\")[0].\\\n",
    "            contents[3].contents[0]['style'].split(':')[1][1:-2]\n",
    "            quality_mark = soup.find_all(\"div\", class_=\"rating-item tooltip-top\")[1].\\\n",
    "            contents[3].contents[0]['style'].split(':')[1][1:-2]\n",
    "            personal_mark = soup.find_all(\"div\", class_=\"rating-item tooltip-top\")[2].\\\n",
    "            contents[3].contents[0]['style'].split(':')[1][1:-2]\n",
    "            way_mark = soup.find_all(\"div\", class_=\"rating-item tooltip-top\")[3].\\\n",
    "            contents[3].contents[0]['style'].split(':')[1][1:-2]\n",
    "            ad_mark = soup.find_all(\"div\", class_=\"rating-item tooltip-top\")[4].\\\n",
    "            contents[3].contents[0]['style'].split(':')[1][1:-2]\n",
    "        elif len(soup.find_all(\"div\", class_=\"rating-item tooltip-top\"))==4:\n",
    "            price_mark = soup.find_all(\"div\", class_=\"rating-item tooltip-top\")[0].\\\n",
    "            contents[3].contents[0]['style'].split(':')[1][1:-2]\n",
    "            quality_mark = soup.find_all(\"div\", class_=\"rating-item tooltip-top\")[1].\\\n",
    "            contents[3].contents[0]['style'].split(':')[1][1:-2]\n",
    "            personal_mark = soup.find_all(\"div\", class_=\"rating-item tooltip-top\")[2].\\\n",
    "            contents[3].contents[0]['style'].split(':')[1][1:-2]\n",
    "            way_mark = soup.find_all(\"div\", class_=\"rating-item tooltip-top\")[3].\\\n",
    "            contents[3].contents[0]['style'].split(':')[1][1:-2]\n",
    "            ad_mark = np.nan\n",
    "        elif len(soup.find_all(\"div\", class_=\"rating-item tooltip-top\"))==3:\n",
    "            price_mark = soup.find_all(\"div\", class_=\"rating-item tooltip-top\")[0].\\\n",
    "            contents[3].contents[0]['style'].split(':')[1][1:-2]\n",
    "            quality_mark = soup.find_all(\"div\", class_=\"rating-item tooltip-top\")[1].\\\n",
    "            contents[3].contents[0]['style'].split(':')[1][1:-2]\n",
    "            personal_mark = soup.find_all(\"div\", class_=\"rating-item tooltip-top\")[2].\\\n",
    "            contents[3].contents[0]['style'].split(':')[1][1:-2]\n",
    "            way_mark = np.nan\n",
    "            ad_mark = np.nan        \n",
    "        else:\n",
    "            price_mark = np.nan\n",
    "            quality_mark = np.nan\n",
    "            personal_mark = np.nan\n",
    "            way_mark = np.nan\n",
    "            ad_mark = np.nan\n",
    "                \n",
    "        url_data = {'user_name': user_name,\n",
    "                    'user_country': user_country,\n",
    "                    'user_city': user_city,\n",
    "                    'user_karma': user_karma,\n",
    "                    'date_review': date_review,\n",
    "                    'title_review': title_review,\n",
    "                    'plus_review': plus_review,\n",
    "                    'minus_review': minus_review,\n",
    "                    'body_review': body_review,\n",
    "                    'coment_count_review': coment_count_review,\n",
    "                    'country_station': country_station,\n",
    "                    'region_station': region_station,\n",
    "                    'district_station': district_station,\n",
    "                    'city_station': city_station,\n",
    "                    'street_station': street_station,\n",
    "                    'house_station': house_station,\n",
    "                    'result_review': result_review,\n",
    "                    'result_rating': result_rating,\n",
    "                    'result_recomendation':result_recomendation,\n",
    "                    'price_mark': price_mark,\n",
    "                    'quality_mark': quality_mark,\n",
    "                    'personal_mark': personal_mark,\n",
    "                    'way_mark': way_mark,\n",
    "                    'ad_mark': ad_mark,\n",
    "                    'id': url[27:-5]\n",
    "                    }\n",
    "        \n",
    "        rows_list.append(url_data)\n",
    "        \n",
    "    df = pd.DataFrame(rows_list)\n",
    "    df = df.set_index('id')\n",
    "    \n",
    "    return df"
   ]
  },
  {
   "cell_type": "code",
   "execution_count": 8,
   "metadata": {},
   "outputs": [],
   "source": [
    "data = make_dataset(urls)"
   ]
  },
  {
   "cell_type": "code",
   "execution_count": null,
   "metadata": {},
   "outputs": [],
   "source": []
  },
  {
   "cell_type": "markdown",
   "metadata": {},
   "source": [
    "# Transform dataset"
   ]
  },
  {
   "cell_type": "code",
   "execution_count": 10,
   "metadata": {},
   "outputs": [
    {
     "data": {
      "text/plain": [
       "Index(['user_name', 'user_country', 'user_city', 'user_karma', 'date_review',\n",
       "       'title_review', 'plus_review', 'minus_review', 'body_review',\n",
       "       'coment_count_review', 'country_station', 'region_station',\n",
       "       'district_station', 'city_station', 'street_station', 'house_station',\n",
       "       'result_review', 'result_rating', 'result_recomendation', 'price_mark',\n",
       "       'quality_mark', 'personal_mark', 'way_mark', 'ad_mark'],\n",
       "      dtype='object')"
      ]
     },
     "execution_count": 10,
     "metadata": {},
     "output_type": "execute_result"
    }
   ],
   "source": [
    "data.columns"
   ]
  },
  {
   "cell_type": "code",
   "execution_count": 11,
   "metadata": {},
   "outputs": [],
   "source": [
    "data['user_city'] = data['user_city'].str[1:]"
   ]
  },
  {
   "cell_type": "code",
   "execution_count": 12,
   "metadata": {},
   "outputs": [],
   "source": [
    "data.loc[data['user_city'] == data['city_station'], 'hometown'] = 1\n",
    "data.loc[data['user_city'] != data['city_station'], 'hometown'] = 0"
   ]
  },
  {
   "cell_type": "code",
   "execution_count": 13,
   "metadata": {},
   "outputs": [],
   "source": [
    "data.loc[data['user_country'] == data['country_station'], 'homecountry'] = 1\n",
    "data.loc[data['user_country'] != data['country_station'], 'homecountry'] = 0"
   ]
  },
  {
   "cell_type": "code",
   "execution_count": 14,
   "metadata": {},
   "outputs": [],
   "source": [
    "adress = data.groupby(['city_station','street_station','house_station']).count()['user_name']\n",
    "adress = adress[adress>1].reset_index()\n",
    "adress['number_station'] = [i for i in range(1,len(adress)+1)]"
   ]
  },
  {
   "cell_type": "code",
   "execution_count": 15,
   "metadata": {},
   "outputs": [
    {
     "name": "stderr",
     "output_type": "stream",
     "text": [
      "/home/mneminic/anaconda3/lib/python3.7/site-packages/ipykernel_launcher.py:8: SettingWithCopyWarning: \n",
      "A value is trying to be set on a copy of a slice from a DataFrame\n",
      "\n",
      "See the caveats in the documentation: http://pandas.pydata.org/pandas-docs/stable/user_guide/indexing.html#returning-a-view-versus-a-copy\n",
      "  \n",
      "/home/mneminic/anaconda3/lib/python3.7/site-packages/ipykernel_launcher.py:13: SettingWithCopyWarning: \n",
      "A value is trying to be set on a copy of a slice from a DataFrame\n",
      "\n",
      "See the caveats in the documentation: http://pandas.pydata.org/pandas-docs/stable/user_guide/indexing.html#returning-a-view-versus-a-copy\n",
      "  del sys.path[0]\n"
     ]
    }
   ],
   "source": [
    "data['number_station']=0\n",
    "\n",
    "for i in data.index:\n",
    "    for a in adress.index:\n",
    "        if (data.loc[i]['city_station']==adress.loc[a]['city_station']) and\\\n",
    "        (data.loc[i]['street_station']==adress.loc[a]['street_station']) and\\\n",
    "        (data.loc[i]['house_station']==adress.loc[a]['house_station']):\n",
    "            data['number_station'][i] = adress['number_station'][a]\n",
    "\n",
    "couner = len(adress)+1\n",
    "for i in data.index:\n",
    "    if data['number_station'][i]==0:\n",
    "        data['number_station'][i] = couner\n",
    "        couner = couner+1"
   ]
  },
  {
   "cell_type": "code",
   "execution_count": 16,
   "metadata": {},
   "outputs": [],
   "source": [
    "data.loc[data['result_recomendation']=='ДА','target'] = data['result_rating'].astype(int) + 1"
   ]
  },
  {
   "cell_type": "code",
   "execution_count": 17,
   "metadata": {},
   "outputs": [],
   "source": [
    "data.loc[data['result_recomendation']=='НЕТ','target'] = data['result_rating'].astype(int)"
   ]
  },
  {
   "cell_type": "code",
   "execution_count": 18,
   "metadata": {},
   "outputs": [],
   "source": [
    "data.loc[data['target']>3, 'bi_target'] = 1"
   ]
  },
  {
   "cell_type": "code",
   "execution_count": 19,
   "metadata": {},
   "outputs": [],
   "source": [
    "data.loc[data['target']<=3, 'bi_target'] = 0"
   ]
  },
  {
   "cell_type": "code",
   "execution_count": 20,
   "metadata": {},
   "outputs": [
    {
     "data": {
      "text/plain": [
       "0.0    129\n",
       "1.0    102\n",
       "Name: bi_target, dtype: int64"
      ]
     },
     "execution_count": 20,
     "metadata": {},
     "output_type": "execute_result"
    }
   ],
   "source": [
    "data['bi_target'].value_counts()"
   ]
  },
  {
   "cell_type": "code",
   "execution_count": 21,
   "metadata": {},
   "outputs": [],
   "source": [
    "data['all_text'] = data['title_review']+'. '+data['plus_review']+'. '+data['minus_review']+\\\n",
    "'. '+data['body_review']+'. '+data['result_review']"
   ]
  },
  {
   "cell_type": "code",
   "execution_count": null,
   "metadata": {},
   "outputs": [],
   "source": []
  },
  {
   "cell_type": "markdown",
   "metadata": {},
   "source": [
    "# Prepare text data"
   ]
  },
  {
   "cell_type": "code",
   "execution_count": 23,
   "metadata": {},
   "outputs": [],
   "source": [
    "lemmatizer = rulemma.Lemmatizer()\n",
    "lemmatizer.load()\n",
    "tokenizer = rutokenizer.Tokenizer()\n",
    "tokenizer.load()\n",
    "tagger = rupostagger.RuPosTagger()\n",
    "tagger.load()"
   ]
  },
  {
   "cell_type": "code",
   "execution_count": 24,
   "metadata": {},
   "outputs": [],
   "source": [
    "def string_to_lem(string_data):\n",
    "    lemmas = lemmatizer.lemmatize(tagger.tag(tokenizer.tokenize(string_data)))\n",
    "    result = []\n",
    "    for word, tags, lemma, *_ in lemmas:\n",
    "        result.append(lemma)\n",
    "    return result"
   ]
  },
  {
   "cell_type": "code",
   "execution_count": 25,
   "metadata": {},
   "outputs": [],
   "source": [
    "data['all_text_lem'] = [string_to_lem(i) for i in data['all_text']]"
   ]
  },
  {
   "cell_type": "code",
   "execution_count": 26,
   "metadata": {},
   "outputs": [],
   "source": [
    "stop_words = list(stopwords.words(\"russian\"))\n",
    "def delite_stop_words(string_data):\n",
    "    new_string = [word for word in string_data if not word in stop_words]\n",
    "    return new_string"
   ]
  },
  {
   "cell_type": "code",
   "execution_count": 27,
   "metadata": {},
   "outputs": [],
   "source": [
    "data['all_text_stop'] = [delite_stop_words(i) for i in data['all_text_lem']]"
   ]
  },
  {
   "cell_type": "code",
   "execution_count": 28,
   "metadata": {},
   "outputs": [],
   "source": [
    "table = str.maketrans('', '', string.punctuation)\n",
    "def delite_punctuation(string_data):\n",
    "    new_string = [w.translate(table) for w in string_data]\n",
    "    return [value for value in new_string if value]"
   ]
  },
  {
   "cell_type": "code",
   "execution_count": 29,
   "metadata": {},
   "outputs": [],
   "source": [
    "data['final_text'] = [delite_punctuation(i) for i in data['all_text_stop']]"
   ]
  },
  {
   "cell_type": "code",
   "execution_count": 31,
   "metadata": {},
   "outputs": [],
   "source": [
    "data['corpus'] = [' '.join(i) for i in data['final_text']]"
   ]
  },
  {
   "cell_type": "code",
   "execution_count": null,
   "metadata": {},
   "outputs": [],
   "source": []
  },
  {
   "cell_type": "markdown",
   "metadata": {},
   "source": [
    "# Clusters for negative and positive reviews"
   ]
  },
  {
   "cell_type": "code",
   "execution_count": 223,
   "metadata": {},
   "outputs": [],
   "source": [
    "vectorizer = TfidfVectorizer(max_df=100 ,min_df=2)"
   ]
  },
  {
   "cell_type": "code",
   "execution_count": 224,
   "metadata": {},
   "outputs": [],
   "source": [
    "matrix = vectorizer.fit_transform(list(data['corpus']))"
   ]
  },
  {
   "cell_type": "code",
   "execution_count": 225,
   "metadata": {},
   "outputs": [
    {
     "data": {
      "text/plain": [
       "(231, 2028)"
      ]
     },
     "execution_count": 225,
     "metadata": {},
     "output_type": "execute_result"
    }
   ],
   "source": [
    "matrix.shape"
   ]
  },
  {
   "cell_type": "code",
   "execution_count": 270,
   "metadata": {},
   "outputs": [],
   "source": [
    "model = KMeans(n_clusters=2)"
   ]
  },
  {
   "cell_type": "code",
   "execution_count": 271,
   "metadata": {},
   "outputs": [],
   "source": [
    "pred = model.fit_predict(matrix.toarray())"
   ]
  },
  {
   "cell_type": "code",
   "execution_count": 272,
   "metadata": {},
   "outputs": [
    {
     "name": "stdout",
     "output_type": "stream",
     "text": [
      "errors:  0.12987012987012986\n"
     ]
    }
   ],
   "source": [
    "print('errors: ',float(sum(pred != data['bi_target'])/len(data['bi_target'])))"
   ]
  },
  {
   "cell_type": "code",
   "execution_count": 245,
   "metadata": {},
   "outputs": [],
   "source": [
    "data['bi_pred'] = pred"
   ]
  },
  {
   "cell_type": "code",
   "execution_count": null,
   "metadata": {},
   "outputs": [],
   "source": []
  },
  {
   "cell_type": "markdown",
   "metadata": {},
   "source": [
    "# Cluster negative reviews"
   ]
  },
  {
   "cell_type": "code",
   "execution_count": 79,
   "metadata": {},
   "outputs": [],
   "source": [
    "vectorizer_neg = TfidfVectorizer(max_df=50 ,min_df=2)"
   ]
  },
  {
   "cell_type": "code",
   "execution_count": 80,
   "metadata": {},
   "outputs": [],
   "source": [
    "matrix_neg = vectorizer_neg.fit_transform(list(data[data['bi_target']==0]['corpus']))"
   ]
  },
  {
   "cell_type": "code",
   "execution_count": 81,
   "metadata": {},
   "outputs": [
    {
     "data": {
      "text/plain": [
       "(129, 1220)"
      ]
     },
     "execution_count": 81,
     "metadata": {},
     "output_type": "execute_result"
    }
   ],
   "source": [
    "matrix_neg.shape"
   ]
  },
  {
   "cell_type": "code",
   "execution_count": 82,
   "metadata": {},
   "outputs": [],
   "source": [
    "model_neg = KMeans(n_clusters=2, random_state=42)"
   ]
  },
  {
   "cell_type": "code",
   "execution_count": 83,
   "metadata": {},
   "outputs": [],
   "source": [
    "pred_neg = model_neg.fit_predict(matrix_neg.toarray())"
   ]
  },
  {
   "cell_type": "code",
   "execution_count": 84,
   "metadata": {},
   "outputs": [],
   "source": [
    "df_neg = pd.DataFrame(pred_neg, index = data[data['bi_target']==0]['corpus'].index, columns =['pred_neg'])"
   ]
  },
  {
   "cell_type": "code",
   "execution_count": 86,
   "metadata": {},
   "outputs": [
    {
     "name": "stderr",
     "output_type": "stream",
     "text": [
      "/home/mneminic/anaconda3/lib/python3.7/site-packages/ipykernel_launcher.py:1: FutureWarning: Sorting because non-concatenation axis is not aligned. A future version\n",
      "of pandas will change to not sort by default.\n",
      "\n",
      "To accept the future behavior, pass 'sort=False'.\n",
      "\n",
      "To retain the current behavior and silence the warning, pass 'sort=True'.\n",
      "\n",
      "  \"\"\"Entry point for launching an IPython kernel.\n"
     ]
    }
   ],
   "source": [
    "data = pd.concat([data,df_neg],axis=1)"
   ]
  },
  {
   "cell_type": "code",
   "execution_count": 90,
   "metadata": {},
   "outputs": [
    {
     "data": {
      "text/plain": [
       "63"
      ]
     },
     "execution_count": 90,
     "metadata": {},
     "output_type": "execute_result"
    }
   ],
   "source": [
    "len(data[data['pred_neg']==0][['minus_review','pred_neg']]) # fail with staff, price, marketing and other"
   ]
  },
  {
   "cell_type": "code",
   "execution_count": 91,
   "metadata": {},
   "outputs": [
    {
     "data": {
      "text/plain": [
       "66"
      ]
     },
     "execution_count": 91,
     "metadata": {},
     "output_type": "execute_result"
    }
   ],
   "source": [
    "len(data[data['pred_neg']==1][['minus_review','pred_neg']]) # fail with quality oil"
   ]
  },
  {
   "cell_type": "code",
   "execution_count": null,
   "metadata": {},
   "outputs": [],
   "source": []
  },
  {
   "cell_type": "markdown",
   "metadata": {},
   "source": [
    "# Analize"
   ]
  },
  {
   "cell_type": "markdown",
   "metadata": {},
   "source": [
    "### Fail with staff, price, marketing and other cluster"
   ]
  },
  {
   "cell_type": "code",
   "execution_count": 138,
   "metadata": {},
   "outputs": [],
   "source": [
    "Counter_0 = Counter(' '.join(data[data['pred_neg']==0]['corpus']).split())"
   ]
  },
  {
   "cell_type": "code",
   "execution_count": 139,
   "metadata": {},
   "outputs": [],
   "source": [
    "most_popular_words_0 = Counter_0.most_common(20)"
   ]
  },
  {
   "cell_type": "code",
   "execution_count": 273,
   "metadata": {},
   "outputs": [
    {
     "data": {
      "text/plain": [
       "[('заправка', 142),\n",
       " ('бензин', 76),\n",
       " ('азс', 72),\n",
       " ('газпромнефть', 70),\n",
       " ('топливо', 56),\n",
       " ('карта', 48),\n",
       " ('это', 46),\n",
       " ('заправляться', 42),\n",
       " ('весь', 42),\n",
       " ('бонус', 42),\n",
       " ('время', 37),\n",
       " ('литр', 35),\n",
       " ('деньга', 34),\n",
       " ('рубль', 34),\n",
       " ('оператор', 33),\n",
       " ('очередь', 32),\n",
       " ('машина', 29),\n",
       " ('свой', 29),\n",
       " ('год', 28),\n",
       " ('бак', 28)]"
      ]
     },
     "execution_count": 273,
     "metadata": {},
     "output_type": "execute_result"
    }
   ],
   "source": [
    "most_popular_words_0 # карта, бонус, время, деньга, рубль, оператор"
   ]
  },
  {
   "cell_type": "markdown",
   "metadata": {},
   "source": [
    "### Fail with quality oil"
   ]
  },
  {
   "cell_type": "code",
   "execution_count": 274,
   "metadata": {},
   "outputs": [],
   "source": [
    "Counter_1 = Counter(' '.join(data[data['pred_neg']==1]['corpus']).split())"
   ]
  },
  {
   "cell_type": "code",
   "execution_count": 275,
   "metadata": {},
   "outputs": [],
   "source": [
    "most_popular_words_1 = Counter_1.most_common(20)"
   ]
  },
  {
   "cell_type": "code",
   "execution_count": 276,
   "metadata": {},
   "outputs": [
    {
     "data": {
      "text/plain": [
       "[('бензин', 134),\n",
       " ('топливо', 99),\n",
       " ('азс', 94),\n",
       " ('качество', 72),\n",
       " ('заправка', 70),\n",
       " ('машина', 62),\n",
       " ('заправляться', 53),\n",
       " ('газпромнефть', 49),\n",
       " ('весь', 40),\n",
       " ('литр', 40),\n",
       " ('плохой', 39),\n",
       " ('это', 36),\n",
       " ('газпром', 36),\n",
       " ('очередь', 34),\n",
       " ('бак', 32),\n",
       " ('95', 28),\n",
       " ('заправиться', 28),\n",
       " ('мочь', 26),\n",
       " ('стать', 25),\n",
       " ('работать', 25)]"
      ]
     },
     "execution_count": 276,
     "metadata": {},
     "output_type": "execute_result"
    }
   ],
   "source": [
    "most_popular_words_1 # качество, плохой, 95, работать, бензин+топливо встречается в 2 раз чаще"
   ]
  },
  {
   "cell_type": "markdown",
   "metadata": {},
   "source": [
    "### Top best and worst station by marks"
   ]
  },
  {
   "cell_type": "code",
   "execution_count": 351,
   "metadata": {},
   "outputs": [],
   "source": [
    "worst_marks_number_station = list(data.groupby('number_station')['target'].mean().sort_values()[:66].index)"
   ]
  },
  {
   "cell_type": "code",
   "execution_count": 352,
   "metadata": {},
   "outputs": [],
   "source": [
    "worst_marks_index_station = [i for i in data.index if data['number_station'][i] in worst_marks_number_station]"
   ]
  },
  {
   "cell_type": "code",
   "execution_count": 372,
   "metadata": {},
   "outputs": [],
   "source": [
    "worst_marks_station = data.loc[pd.Index(worst_marks_index_station)]\\\n",
    "[['number_station','country_station','city_station','street_station','house_station']]"
   ]
  },
  {
   "cell_type": "code",
   "execution_count": 373,
   "metadata": {},
   "outputs": [
    {
     "data": {
      "text/html": [
       "<div>\n",
       "<style scoped>\n",
       "    .dataframe tbody tr th:only-of-type {\n",
       "        vertical-align: middle;\n",
       "    }\n",
       "\n",
       "    .dataframe tbody tr th {\n",
       "        vertical-align: top;\n",
       "    }\n",
       "\n",
       "    .dataframe thead th {\n",
       "        text-align: right;\n",
       "    }\n",
       "</style>\n",
       "<table border=\"1\" class=\"dataframe\">\n",
       "  <thead>\n",
       "    <tr style=\"text-align: right;\">\n",
       "      <th></th>\n",
       "      <th>number_station</th>\n",
       "      <th>country_station</th>\n",
       "      <th>city_station</th>\n",
       "      <th>street_station</th>\n",
       "      <th>house_station</th>\n",
       "    </tr>\n",
       "  </thead>\n",
       "  <tbody>\n",
       "    <tr>\n",
       "      <th>1096478</th>\n",
       "      <td>3</td>\n",
       "      <td>Россия</td>\n",
       "      <td>Магнитогорск</td>\n",
       "      <td>Магнитная</td>\n",
       "      <td>105Б</td>\n",
       "    </tr>\n",
       "    <tr>\n",
       "      <th>1254306</th>\n",
       "      <td>199</td>\n",
       "      <td>Россия</td>\n",
       "      <td>Иваново</td>\n",
       "      <td>NaN</td>\n",
       "      <td>NaN</td>\n",
       "    </tr>\n",
       "    <tr>\n",
       "      <th>1482780</th>\n",
       "      <td>17</td>\n",
       "      <td>Россия</td>\n",
       "      <td>Санкт-Петербург</td>\n",
       "      <td>NaN</td>\n",
       "      <td>NaN</td>\n",
       "    </tr>\n",
       "    <tr>\n",
       "      <th>1817453</th>\n",
       "      <td>146</td>\n",
       "      <td>Россия</td>\n",
       "      <td>Санкт-Петербург</td>\n",
       "      <td>NaN</td>\n",
       "      <td>NaN</td>\n",
       "    </tr>\n",
       "    <tr>\n",
       "      <th>2056315</th>\n",
       "      <td>148</td>\n",
       "      <td>Россия</td>\n",
       "      <td>Санкт-Петербург</td>\n",
       "      <td>Советская</td>\n",
       "      <td>55</td>\n",
       "    </tr>\n",
       "    <tr>\n",
       "      <th>2092011</th>\n",
       "      <td>149</td>\n",
       "      <td>Россия</td>\n",
       "      <td>Снежинск</td>\n",
       "      <td>NaN</td>\n",
       "      <td>NaN</td>\n",
       "    </tr>\n",
       "    <tr>\n",
       "      <th>2419070</th>\n",
       "      <td>201</td>\n",
       "      <td>Россия</td>\n",
       "      <td>Кстово</td>\n",
       "      <td>М7</td>\n",
       "      <td>243</td>\n",
       "    </tr>\n",
       "    <tr>\n",
       "      <th>2452226</th>\n",
       "      <td>57</td>\n",
       "      <td>Россия</td>\n",
       "      <td>Санкт-Петербург</td>\n",
       "      <td>ул. Фучика</td>\n",
       "      <td>8а</td>\n",
       "    </tr>\n",
       "    <tr>\n",
       "      <th>2874868</th>\n",
       "      <td>63</td>\n",
       "      <td>Россия</td>\n",
       "      <td>Москва</td>\n",
       "      <td>NaN</td>\n",
       "      <td>NaN</td>\n",
       "    </tr>\n",
       "    <tr>\n",
       "      <th>3010668</th>\n",
       "      <td>64</td>\n",
       "      <td>Беларусь</td>\n",
       "      <td>Минск</td>\n",
       "      <td>Партизанский проспект</td>\n",
       "      <td>NaN</td>\n",
       "    </tr>\n",
       "    <tr>\n",
       "      <th>3066876</th>\n",
       "      <td>23</td>\n",
       "      <td>Россия</td>\n",
       "      <td>Кемерово</td>\n",
       "      <td>Проспект Октябрьский</td>\n",
       "      <td>2Ак1</td>\n",
       "    </tr>\n",
       "    <tr>\n",
       "      <th>3235069</th>\n",
       "      <td>24</td>\n",
       "      <td>Россия</td>\n",
       "      <td>Красноярск</td>\n",
       "      <td>Партизана Железняка</td>\n",
       "      <td>18 офис 312</td>\n",
       "    </tr>\n",
       "    <tr>\n",
       "      <th>3442432</th>\n",
       "      <td>153</td>\n",
       "      <td>Россия</td>\n",
       "      <td>Тосно</td>\n",
       "      <td>трасса СПБ</td>\n",
       "      <td>NaN</td>\n",
       "    </tr>\n",
       "    <tr>\n",
       "      <th>3615033</th>\n",
       "      <td>154</td>\n",
       "      <td>Россия</td>\n",
       "      <td>Санкт-Петербург</td>\n",
       "      <td>NaN</td>\n",
       "      <td>NaN</td>\n",
       "    </tr>\n",
       "    <tr>\n",
       "      <th>4044457</th>\n",
       "      <td>162</td>\n",
       "      <td>Россия</td>\n",
       "      <td>Снежинск</td>\n",
       "      <td>Широкая</td>\n",
       "      <td>9</td>\n",
       "    </tr>\n",
       "    <tr>\n",
       "      <th>4280008</th>\n",
       "      <td>186</td>\n",
       "      <td>Россия</td>\n",
       "      <td>Химки</td>\n",
       "      <td>Лихачевское шоссе</td>\n",
       "      <td>Заправка №059</td>\n",
       "    </tr>\n",
       "    <tr>\n",
       "      <th>4289785</th>\n",
       "      <td>163</td>\n",
       "      <td>Россия</td>\n",
       "      <td>Нижний Новгород</td>\n",
       "      <td>ул. Коминтерна</td>\n",
       "      <td>17</td>\n",
       "    </tr>\n",
       "    <tr>\n",
       "      <th>4304809</th>\n",
       "      <td>19</td>\n",
       "      <td>Россия</td>\n",
       "      <td>Тверь</td>\n",
       "      <td>NaN</td>\n",
       "      <td>NaN</td>\n",
       "    </tr>\n",
       "    <tr>\n",
       "      <th>4318059</th>\n",
       "      <td>157</td>\n",
       "      <td>Россия</td>\n",
       "      <td>поселок Эммаус</td>\n",
       "      <td>NaN</td>\n",
       "      <td>NaN</td>\n",
       "    </tr>\n",
       "    <tr>\n",
       "      <th>4320458</th>\n",
       "      <td>158</td>\n",
       "      <td>Россия</td>\n",
       "      <td>Новосибирск</td>\n",
       "      <td>NaN</td>\n",
       "      <td>NaN</td>\n",
       "    </tr>\n",
       "    <tr>\n",
       "      <th>4469520</th>\n",
       "      <td>207</td>\n",
       "      <td>Россия</td>\n",
       "      <td>Калуга</td>\n",
       "      <td>NaN</td>\n",
       "      <td>NaN</td>\n",
       "    </tr>\n",
       "    <tr>\n",
       "      <th>4496395</th>\n",
       "      <td>187</td>\n",
       "      <td>Россия</td>\n",
       "      <td>Москва</td>\n",
       "      <td>г. Москва, Кутузовский проспект</td>\n",
       "      <td>1</td>\n",
       "    </tr>\n",
       "    <tr>\n",
       "      <th>4707307</th>\n",
       "      <td>188</td>\n",
       "      <td>Россия</td>\n",
       "      <td>Москва</td>\n",
       "      <td>б-р Яна Райниса</td>\n",
       "      <td>49</td>\n",
       "    </tr>\n",
       "    <tr>\n",
       "      <th>4820831</th>\n",
       "      <td>164</td>\n",
       "      <td>Россия</td>\n",
       "      <td>Москва</td>\n",
       "      <td>ул. Ижорская</td>\n",
       "      <td>31Б</td>\n",
       "    </tr>\n",
       "    <tr>\n",
       "      <th>4822167</th>\n",
       "      <td>189</td>\n",
       "      <td>Россия</td>\n",
       "      <td>Санкт-Петербург</td>\n",
       "      <td>NaN</td>\n",
       "      <td>NaN</td>\n",
       "    </tr>\n",
       "    <tr>\n",
       "      <th>4866047</th>\n",
       "      <td>190</td>\n",
       "      <td>Россия</td>\n",
       "      <td>Верхняя Пышма</td>\n",
       "      <td>ул Петрова</td>\n",
       "      <td>NaN</td>\n",
       "    </tr>\n",
       "    <tr>\n",
       "      <th>4881291</th>\n",
       "      <td>3</td>\n",
       "      <td>Россия</td>\n",
       "      <td>Магнитогорск</td>\n",
       "      <td>Магнитная</td>\n",
       "      <td>105Б</td>\n",
       "    </tr>\n",
       "    <tr>\n",
       "      <th>4955895</th>\n",
       "      <td>160</td>\n",
       "      <td>Россия</td>\n",
       "      <td>Москва</td>\n",
       "      <td>Дыбенко</td>\n",
       "      <td>-</td>\n",
       "    </tr>\n",
       "    <tr>\n",
       "      <th>4963448</th>\n",
       "      <td>165</td>\n",
       "      <td>Россия</td>\n",
       "      <td>Москва</td>\n",
       "      <td>амурская</td>\n",
       "      <td>15</td>\n",
       "    </tr>\n",
       "    <tr>\n",
       "      <th>502384</th>\n",
       "      <td>3</td>\n",
       "      <td>Россия</td>\n",
       "      <td>Магнитогорск</td>\n",
       "      <td>Магнитная</td>\n",
       "      <td>105Б</td>\n",
       "    </tr>\n",
       "    <tr>\n",
       "      <th>5120499</th>\n",
       "      <td>84</td>\n",
       "      <td>Россия</td>\n",
       "      <td>Егорьевск</td>\n",
       "      <td>Коломенское шоссе</td>\n",
       "      <td>3А</td>\n",
       "    </tr>\n",
       "    <tr>\n",
       "      <th>5125648</th>\n",
       "      <td>192</td>\n",
       "      <td>Россия</td>\n",
       "      <td>Москва</td>\n",
       "      <td>улица Мичуринский Проспект, Олимпийская Деревня</td>\n",
       "      <td>21А.</td>\n",
       "    </tr>\n",
       "    <tr>\n",
       "      <th>5178876</th>\n",
       "      <td>85</td>\n",
       "      <td>Россия</td>\n",
       "      <td>Иваново</td>\n",
       "      <td>павла большевикова</td>\n",
       "      <td>27а</td>\n",
       "    </tr>\n",
       "    <tr>\n",
       "      <th>5278788</th>\n",
       "      <td>86</td>\n",
       "      <td>Россия</td>\n",
       "      <td>Московская область</td>\n",
       "      <td>NaN</td>\n",
       "      <td>NaN</td>\n",
       "    </tr>\n",
       "    <tr>\n",
       "      <th>5430000</th>\n",
       "      <td>193</td>\n",
       "      <td>Россия</td>\n",
       "      <td>Москва</td>\n",
       "      <td>ААЗС№127ул.намёткина</td>\n",
       "      <td>влд.16А,стр.1</td>\n",
       "    </tr>\n",
       "    <tr>\n",
       "      <th>5605830</th>\n",
       "      <td>96</td>\n",
       "      <td>Россия</td>\n",
       "      <td>Кемерово</td>\n",
       "      <td>NaN</td>\n",
       "      <td>NaN</td>\n",
       "    </tr>\n",
       "    <tr>\n",
       "      <th>5848575</th>\n",
       "      <td>103</td>\n",
       "      <td>Россия</td>\n",
       "      <td>посёлок городского типа Шаховская</td>\n",
       "      <td>NaN</td>\n",
       "      <td>NaN</td>\n",
       "    </tr>\n",
       "    <tr>\n",
       "      <th>5927976</th>\n",
       "      <td>135</td>\n",
       "      <td>Россия</td>\n",
       "      <td>Нижний Новгород</td>\n",
       "      <td>Московское  шоссе</td>\n",
       "      <td>213Б</td>\n",
       "    </tr>\n",
       "    <tr>\n",
       "      <th>5983511</th>\n",
       "      <td>75</td>\n",
       "      <td>Россия</td>\n",
       "      <td>Полысаево</td>\n",
       "      <td>NaN</td>\n",
       "      <td>NaN</td>\n",
       "    </tr>\n",
       "    <tr>\n",
       "      <th>5997858</th>\n",
       "      <td>195</td>\n",
       "      <td>Россия</td>\n",
       "      <td>Новгородская область</td>\n",
       "      <td>NaN</td>\n",
       "      <td>NaN</td>\n",
       "    </tr>\n",
       "    <tr>\n",
       "      <th>6104032</th>\n",
       "      <td>136</td>\n",
       "      <td>Россия</td>\n",
       "      <td>Москва</td>\n",
       "      <td>6-ой Загородный</td>\n",
       "      <td>1</td>\n",
       "    </tr>\n",
       "    <tr>\n",
       "      <th>6112735</th>\n",
       "      <td>11</td>\n",
       "      <td>Россия</td>\n",
       "      <td>Санкт-Петербург</td>\n",
       "      <td>Дальневосточный пр.</td>\n",
       "      <td>11</td>\n",
       "    </tr>\n",
       "    <tr>\n",
       "      <th>6204074</th>\n",
       "      <td>133</td>\n",
       "      <td>Россия</td>\n",
       "      <td>Омск</td>\n",
       "      <td>24 северная</td>\n",
       "      <td>210А/1</td>\n",
       "    </tr>\n",
       "    <tr>\n",
       "      <th>6438565</th>\n",
       "      <td>126</td>\n",
       "      <td>Россия</td>\n",
       "      <td>Орехово-Зуево</td>\n",
       "      <td>Северная</td>\n",
       "      <td>56</td>\n",
       "    </tr>\n",
       "    <tr>\n",
       "      <th>6482592</th>\n",
       "      <td>127</td>\n",
       "      <td>Россия</td>\n",
       "      <td>Самара</td>\n",
       "      <td>М5 урал 1011км</td>\n",
       "      <td>1011км</td>\n",
       "    </tr>\n",
       "    <tr>\n",
       "      <th>6570108</th>\n",
       "      <td>128</td>\n",
       "      <td>Россия</td>\n",
       "      <td>Мыски</td>\n",
       "      <td>Олимпийская</td>\n",
       "      <td>11</td>\n",
       "    </tr>\n",
       "    <tr>\n",
       "      <th>6736429</th>\n",
       "      <td>105</td>\n",
       "      <td>Россия</td>\n",
       "      <td>Дмитров</td>\n",
       "      <td>Недалеко от Жестылево после поворота на Талдом</td>\n",
       "      <td>NaN</td>\n",
       "    </tr>\n",
       "    <tr>\n",
       "      <th>6757043</th>\n",
       "      <td>11</td>\n",
       "      <td>Россия</td>\n",
       "      <td>Санкт-Петербург</td>\n",
       "      <td>Дальневосточный пр.</td>\n",
       "      <td>11</td>\n",
       "    </tr>\n",
       "    <tr>\n",
       "      <th>6891423</th>\n",
       "      <td>70</td>\n",
       "      <td>Россия</td>\n",
       "      <td>Москва</td>\n",
       "      <td>МКАД 34-й км</td>\n",
       "      <td>МО Кашира, ул. Стрелецкая</td>\n",
       "    </tr>\n",
       "    <tr>\n",
       "      <th>6918906</th>\n",
       "      <td>123</td>\n",
       "      <td>Россия</td>\n",
       "      <td>Сургут</td>\n",
       "      <td>,Югорский тракт</td>\n",
       "      <td>44</td>\n",
       "    </tr>\n",
       "    <tr>\n",
       "      <th>6969383</th>\n",
       "      <td>98</td>\n",
       "      <td>NaN</td>\n",
       "      <td>NaN</td>\n",
       "      <td>NaN</td>\n",
       "      <td>NaN</td>\n",
       "    </tr>\n",
       "    <tr>\n",
       "      <th>7276684</th>\n",
       "      <td>67</td>\n",
       "      <td>Россия</td>\n",
       "      <td>Санкт-Петербург</td>\n",
       "      <td>Шотмана</td>\n",
       "      <td>16</td>\n",
       "    </tr>\n",
       "    <tr>\n",
       "      <th>7329925</th>\n",
       "      <td>80</td>\n",
       "      <td>Россия</td>\n",
       "      <td>деревня Пешки</td>\n",
       "      <td>Ленинградское шоссе</td>\n",
       "      <td>АЗС 28</td>\n",
       "    </tr>\n",
       "    <tr>\n",
       "      <th>7567707</th>\n",
       "      <td>125</td>\n",
       "      <td>Россия</td>\n",
       "      <td>Ярославская область</td>\n",
       "      <td>NaN</td>\n",
       "      <td>NaN</td>\n",
       "    </tr>\n",
       "    <tr>\n",
       "      <th>7615210</th>\n",
       "      <td>99</td>\n",
       "      <td>Россия</td>\n",
       "      <td>Нижний Новгород</td>\n",
       "      <td>усилова</td>\n",
       "      <td>2</td>\n",
       "    </tr>\n",
       "    <tr>\n",
       "      <th>7842231</th>\n",
       "      <td>52</td>\n",
       "      <td>Россия</td>\n",
       "      <td>Санкт-Петербург</td>\n",
       "      <td>NaN</td>\n",
       "      <td>NaN</td>\n",
       "    </tr>\n",
       "    <tr>\n",
       "      <th>7861681</th>\n",
       "      <td>82</td>\n",
       "      <td>Россия</td>\n",
       "      <td>Москва</td>\n",
       "      <td>Байкальский переулок</td>\n",
       "      <td>15А</td>\n",
       "    </tr>\n",
       "    <tr>\n",
       "      <th>7869023</th>\n",
       "      <td>92</td>\n",
       "      <td>Россия</td>\n",
       "      <td>Санкт-Петербург</td>\n",
       "      <td>Краснопутиловская</td>\n",
       "      <td>46</td>\n",
       "    </tr>\n",
       "    <tr>\n",
       "      <th>8047889</th>\n",
       "      <td>94</td>\n",
       "      <td>Россия</td>\n",
       "      <td>рабочий поселок Линёво</td>\n",
       "      <td>пр. Юбилейный</td>\n",
       "      <td>7Б</td>\n",
       "    </tr>\n",
       "    <tr>\n",
       "      <th>8413840</th>\n",
       "      <td>68</td>\n",
       "      <td>Россия</td>\n",
       "      <td>Домодедово</td>\n",
       "      <td>Каширское шоссе</td>\n",
       "      <td>83</td>\n",
       "    </tr>\n",
       "    <tr>\n",
       "      <th>8522488</th>\n",
       "      <td>69</td>\n",
       "      <td>Россия</td>\n",
       "      <td>деревня Торбеево</td>\n",
       "      <td>-</td>\n",
       "      <td>-</td>\n",
       "    </tr>\n",
       "    <tr>\n",
       "      <th>8704645</th>\n",
       "      <td>37</td>\n",
       "      <td>Россия</td>\n",
       "      <td>Белгород</td>\n",
       "      <td>Сургутская</td>\n",
       "      <td>80Б</td>\n",
       "    </tr>\n",
       "    <tr>\n",
       "      <th>8729987</th>\n",
       "      <td>38</td>\n",
       "      <td>Россия</td>\n",
       "      <td>Нижний Новгород</td>\n",
       "      <td>Героя Попова</td>\n",
       "      <td>58в</td>\n",
       "    </tr>\n",
       "    <tr>\n",
       "      <th>8834072</th>\n",
       "      <td>43</td>\n",
       "      <td>Россия</td>\n",
       "      <td>Ярославль</td>\n",
       "      <td>Волгоградская</td>\n",
       "      <td>51</td>\n",
       "    </tr>\n",
       "    <tr>\n",
       "      <th>8934672</th>\n",
       "      <td>29</td>\n",
       "      <td>Россия</td>\n",
       "      <td>Мытищи</td>\n",
       "      <td>мкад</td>\n",
       "      <td>непомню</td>\n",
       "    </tr>\n",
       "    <tr>\n",
       "      <th>9219698</th>\n",
       "      <td>31</td>\n",
       "      <td>Россия</td>\n",
       "      <td>Москва</td>\n",
       "      <td>МКАД</td>\n",
       "      <td>46 км</td>\n",
       "    </tr>\n",
       "    <tr>\n",
       "      <th>9309701</th>\n",
       "      <td>44</td>\n",
       "      <td>Россия</td>\n",
       "      <td>Пушкин</td>\n",
       "      <td>Красносельское ш.</td>\n",
       "      <td>64</td>\n",
       "    </tr>\n",
       "    <tr>\n",
       "      <th>9322758</th>\n",
       "      <td>45</td>\n",
       "      <td>Россия</td>\n",
       "      <td>Омск</td>\n",
       "      <td>ул. Суворова</td>\n",
       "      <td>109</td>\n",
       "    </tr>\n",
       "    <tr>\n",
       "      <th>9577987</th>\n",
       "      <td>33</td>\n",
       "      <td>Россия</td>\n",
       "      <td>Муравленко</td>\n",
       "      <td>Трасса</td>\n",
       "      <td>100</td>\n",
       "    </tr>\n",
       "  </tbody>\n",
       "</table>\n",
       "</div>"
      ],
      "text/plain": [
       "         number_station country_station                       city_station  \\\n",
       "1096478               3          Россия                       Магнитогорск   \n",
       "1254306             199          Россия                            Иваново   \n",
       "1482780              17          Россия                    Санкт-Петербург   \n",
       "1817453             146          Россия                    Санкт-Петербург   \n",
       "2056315             148          Россия                    Санкт-Петербург   \n",
       "2092011             149          Россия                           Снежинск   \n",
       "2419070             201          Россия                             Кстово   \n",
       "2452226              57          Россия                    Санкт-Петербург   \n",
       "2874868              63          Россия                             Москва   \n",
       "3010668              64        Беларусь                              Минск   \n",
       "3066876              23          Россия                           Кемерово   \n",
       "3235069              24          Россия                         Красноярск   \n",
       "3442432             153          Россия                              Тосно   \n",
       "3615033             154          Россия                    Санкт-Петербург   \n",
       "4044457             162          Россия                           Снежинск   \n",
       "4280008             186          Россия                              Химки   \n",
       "4289785             163          Россия                    Нижний Новгород   \n",
       "4304809              19          Россия                              Тверь   \n",
       "4318059             157          Россия                     поселок Эммаус   \n",
       "4320458             158          Россия                        Новосибирск   \n",
       "4469520             207          Россия                             Калуга   \n",
       "4496395             187          Россия                             Москва   \n",
       "4707307             188          Россия                             Москва   \n",
       "4820831             164          Россия                             Москва   \n",
       "4822167             189          Россия                    Санкт-Петербург   \n",
       "4866047             190          Россия                      Верхняя Пышма   \n",
       "4881291               3          Россия                       Магнитогорск   \n",
       "4955895             160          Россия                             Москва   \n",
       "4963448             165          Россия                             Москва   \n",
       "502384                3          Россия                       Магнитогорск   \n",
       "5120499              84          Россия                          Егорьевск   \n",
       "5125648             192          Россия                             Москва   \n",
       "5178876              85          Россия                            Иваново   \n",
       "5278788              86          Россия                 Московская область   \n",
       "5430000             193          Россия                             Москва   \n",
       "5605830              96          Россия                           Кемерово   \n",
       "5848575             103          Россия  посёлок городского типа Шаховская   \n",
       "5927976             135          Россия                    Нижний Новгород   \n",
       "5983511              75          Россия                          Полысаево   \n",
       "5997858             195          Россия               Новгородская область   \n",
       "6104032             136          Россия                             Москва   \n",
       "6112735              11          Россия                    Санкт-Петербург   \n",
       "6204074             133          Россия                               Омск   \n",
       "6438565             126          Россия                      Орехово-Зуево   \n",
       "6482592             127          Россия                             Самара   \n",
       "6570108             128          Россия                              Мыски   \n",
       "6736429             105          Россия                            Дмитров   \n",
       "6757043              11          Россия                    Санкт-Петербург   \n",
       "6891423              70          Россия                             Москва   \n",
       "6918906             123          Россия                             Сургут   \n",
       "6969383              98             NaN                                NaN   \n",
       "7276684              67          Россия                    Санкт-Петербург   \n",
       "7329925              80          Россия                      деревня Пешки   \n",
       "7567707             125          Россия                Ярославская область   \n",
       "7615210              99          Россия                    Нижний Новгород   \n",
       "7842231              52          Россия                    Санкт-Петербург   \n",
       "7861681              82          Россия                             Москва   \n",
       "7869023              92          Россия                    Санкт-Петербург   \n",
       "8047889              94          Россия             рабочий поселок Линёво   \n",
       "8413840              68          Россия                         Домодедово   \n",
       "8522488              69          Россия                   деревня Торбеево   \n",
       "8704645              37          Россия                           Белгород   \n",
       "8729987              38          Россия                    Нижний Новгород   \n",
       "8834072              43          Россия                          Ярославль   \n",
       "8934672              29          Россия                             Мытищи   \n",
       "9219698              31          Россия                             Москва   \n",
       "9309701              44          Россия                             Пушкин   \n",
       "9322758              45          Россия                               Омск   \n",
       "9577987              33          Россия                         Муравленко   \n",
       "\n",
       "                                          street_station  \\\n",
       "1096478                                        Магнитная   \n",
       "1254306                                              NaN   \n",
       "1482780                                              NaN   \n",
       "1817453                                              NaN   \n",
       "2056315                                        Советская   \n",
       "2092011                                              NaN   \n",
       "2419070                                               М7   \n",
       "2452226                                       ул. Фучика   \n",
       "2874868                                              NaN   \n",
       "3010668                            Партизанский проспект   \n",
       "3066876                             Проспект Октябрьский   \n",
       "3235069                              Партизана Железняка   \n",
       "3442432                                       трасса СПБ   \n",
       "3615033                                              NaN   \n",
       "4044457                                          Широкая   \n",
       "4280008                                Лихачевское шоссе   \n",
       "4289785                                   ул. Коминтерна   \n",
       "4304809                                              NaN   \n",
       "4318059                                              NaN   \n",
       "4320458                                              NaN   \n",
       "4469520                                              NaN   \n",
       "4496395                  г. Москва, Кутузовский проспект   \n",
       "4707307                                  б-р Яна Райниса   \n",
       "4820831                                     ул. Ижорская   \n",
       "4822167                                              NaN   \n",
       "4866047                                       ул Петрова   \n",
       "4881291                                        Магнитная   \n",
       "4955895                                          Дыбенко   \n",
       "4963448                                         амурская   \n",
       "502384                                         Магнитная   \n",
       "5120499                                Коломенское шоссе   \n",
       "5125648  улица Мичуринский Проспект, Олимпийская Деревня   \n",
       "5178876                               павла большевикова   \n",
       "5278788                                              NaN   \n",
       "5430000                             ААЗС№127ул.намёткина   \n",
       "5605830                                              NaN   \n",
       "5848575                                              NaN   \n",
       "5927976                                Московское  шоссе   \n",
       "5983511                                              NaN   \n",
       "5997858                                              NaN   \n",
       "6104032                                  6-ой Загородный   \n",
       "6112735                              Дальневосточный пр.   \n",
       "6204074                                      24 северная   \n",
       "6438565                                         Северная   \n",
       "6482592                                   М5 урал 1011км   \n",
       "6570108                                      Олимпийская   \n",
       "6736429   Недалеко от Жестылево после поворота на Талдом   \n",
       "6757043                              Дальневосточный пр.   \n",
       "6891423                                     МКАД 34-й км   \n",
       "6918906                                  ,Югорский тракт   \n",
       "6969383                                              NaN   \n",
       "7276684                                          Шотмана   \n",
       "7329925                              Ленинградское шоссе   \n",
       "7567707                                              NaN   \n",
       "7615210                                          усилова   \n",
       "7842231                                              NaN   \n",
       "7861681                             Байкальский переулок   \n",
       "7869023                                Краснопутиловская   \n",
       "8047889                                    пр. Юбилейный   \n",
       "8413840                                  Каширское шоссе   \n",
       "8522488                                                -   \n",
       "8704645                                       Сургутская   \n",
       "8729987                                     Героя Попова   \n",
       "8834072                                    Волгоградская   \n",
       "8934672                                             мкад   \n",
       "9219698                                             МКАД   \n",
       "9309701                                Красносельское ш.   \n",
       "9322758                                     ул. Суворова   \n",
       "9577987                                           Трасса   \n",
       "\n",
       "                     house_station  \n",
       "1096478                       105Б  \n",
       "1254306                        NaN  \n",
       "1482780                        NaN  \n",
       "1817453                        NaN  \n",
       "2056315                         55  \n",
       "2092011                        NaN  \n",
       "2419070                        243  \n",
       "2452226                         8а  \n",
       "2874868                        NaN  \n",
       "3010668                        NaN  \n",
       "3066876                       2Ак1  \n",
       "3235069                18 офис 312  \n",
       "3442432                        NaN  \n",
       "3615033                        NaN  \n",
       "4044457                          9  \n",
       "4280008              Заправка №059  \n",
       "4289785                         17  \n",
       "4304809                        NaN  \n",
       "4318059                        NaN  \n",
       "4320458                        NaN  \n",
       "4469520                        NaN  \n",
       "4496395                          1  \n",
       "4707307                         49  \n",
       "4820831                        31Б  \n",
       "4822167                        NaN  \n",
       "4866047                        NaN  \n",
       "4881291                       105Б  \n",
       "4955895                          -  \n",
       "4963448                         15  \n",
       "502384                        105Б  \n",
       "5120499                         3А  \n",
       "5125648                       21А.  \n",
       "5178876                        27а  \n",
       "5278788                        NaN  \n",
       "5430000              влд.16А,стр.1  \n",
       "5605830                        NaN  \n",
       "5848575                        NaN  \n",
       "5927976                       213Б  \n",
       "5983511                        NaN  \n",
       "5997858                        NaN  \n",
       "6104032                          1  \n",
       "6112735                         11  \n",
       "6204074                     210А/1  \n",
       "6438565                         56  \n",
       "6482592                     1011км  \n",
       "6570108                         11  \n",
       "6736429                        NaN  \n",
       "6757043                         11  \n",
       "6891423  МО Кашира, ул. Стрелецкая  \n",
       "6918906                         44  \n",
       "6969383                        NaN  \n",
       "7276684                         16  \n",
       "7329925                     АЗС 28  \n",
       "7567707                        NaN  \n",
       "7615210                          2  \n",
       "7842231                        NaN  \n",
       "7861681                        15А  \n",
       "7869023                         46  \n",
       "8047889                         7Б  \n",
       "8413840                         83  \n",
       "8522488                          -  \n",
       "8704645                        80Б  \n",
       "8729987                        58в  \n",
       "8834072                         51  \n",
       "8934672                    непомню  \n",
       "9219698                      46 км  \n",
       "9309701                         64  \n",
       "9322758                        109  \n",
       "9577987                        100  "
      ]
     },
     "execution_count": 373,
     "metadata": {},
     "output_type": "execute_result"
    }
   ],
   "source": [
    "worst_marks_station"
   ]
  },
  {
   "cell_type": "code",
   "execution_count": 377,
   "metadata": {},
   "outputs": [],
   "source": [
    "best_marks_number_station = list(data.groupby('number_station')['target'].mean().sort_values()[169:].index)"
   ]
  },
  {
   "cell_type": "code",
   "execution_count": 378,
   "metadata": {},
   "outputs": [],
   "source": [
    "best_marks_index_station = [i for i in data.index if data['number_station'][i] in best_marks_number_station]"
   ]
  },
  {
   "cell_type": "code",
   "execution_count": 379,
   "metadata": {},
   "outputs": [],
   "source": [
    "best_marks_station = data.loc[pd.Index(best_marks_index_station)]\\\n",
    "[['number_station', 'country_station','city_station','street_station','house_station','result_rating']]"
   ]
  },
  {
   "cell_type": "code",
   "execution_count": 380,
   "metadata": {},
   "outputs": [
    {
     "data": {
      "text/html": [
       "<div>\n",
       "<style scoped>\n",
       "    .dataframe tbody tr th:only-of-type {\n",
       "        vertical-align: middle;\n",
       "    }\n",
       "\n",
       "    .dataframe tbody tr th {\n",
       "        vertical-align: top;\n",
       "    }\n",
       "\n",
       "    .dataframe thead th {\n",
       "        text-align: right;\n",
       "    }\n",
       "</style>\n",
       "<table border=\"1\" class=\"dataframe\">\n",
       "  <thead>\n",
       "    <tr style=\"text-align: right;\">\n",
       "      <th></th>\n",
       "      <th>number_station</th>\n",
       "      <th>country_station</th>\n",
       "      <th>city_station</th>\n",
       "      <th>street_station</th>\n",
       "      <th>house_station</th>\n",
       "      <th>result_rating</th>\n",
       "    </tr>\n",
       "  </thead>\n",
       "  <tbody>\n",
       "    <tr>\n",
       "      <th>1345343</th>\n",
       "      <td>172</td>\n",
       "      <td>NaN</td>\n",
       "      <td>NaN</td>\n",
       "      <td>NaN</td>\n",
       "      <td>NaN</td>\n",
       "      <td>5</td>\n",
       "    </tr>\n",
       "    <tr>\n",
       "      <th>1386901</th>\n",
       "      <td>196</td>\n",
       "      <td>Россия</td>\n",
       "      <td>Санкт-Петербург</td>\n",
       "      <td>десантников</td>\n",
       "      <td>21</td>\n",
       "      <td>5</td>\n",
       "    </tr>\n",
       "    <tr>\n",
       "      <th>1404528</th>\n",
       "      <td>173</td>\n",
       "      <td>NaN</td>\n",
       "      <td>NaN</td>\n",
       "      <td>NaN</td>\n",
       "      <td>NaN</td>\n",
       "      <td>5</td>\n",
       "    </tr>\n",
       "    <tr>\n",
       "      <th>1467907</th>\n",
       "      <td>53</td>\n",
       "      <td>NaN</td>\n",
       "      <td>NaN</td>\n",
       "      <td>NaN</td>\n",
       "      <td>NaN</td>\n",
       "      <td>5</td>\n",
       "    </tr>\n",
       "    <tr>\n",
       "      <th>1749938</th>\n",
       "      <td>54</td>\n",
       "      <td>Россия</td>\n",
       "      <td>Москва</td>\n",
       "      <td>NaN</td>\n",
       "      <td>NaN</td>\n",
       "      <td>5</td>\n",
       "    </tr>\n",
       "    <tr>\n",
       "      <th>1934126</th>\n",
       "      <td>147</td>\n",
       "      <td>Россия</td>\n",
       "      <td>Шатура</td>\n",
       "      <td>Пр. Ильича</td>\n",
       "      <td>66</td>\n",
       "      <td>5</td>\n",
       "    </tr>\n",
       "    <tr>\n",
       "      <th>2067184</th>\n",
       "      <td>175</td>\n",
       "      <td>Россия</td>\n",
       "      <td>Москва</td>\n",
       "      <td>NaN</td>\n",
       "      <td>NaN</td>\n",
       "      <td>5</td>\n",
       "    </tr>\n",
       "    <tr>\n",
       "      <th>2131108</th>\n",
       "      <td>114</td>\n",
       "      <td>Россия</td>\n",
       "      <td>Пошехонье</td>\n",
       "      <td>NaN</td>\n",
       "      <td>NaN</td>\n",
       "      <td>5</td>\n",
       "    </tr>\n",
       "    <tr>\n",
       "      <th>2347195</th>\n",
       "      <td>150</td>\n",
       "      <td>Россия</td>\n",
       "      <td>Пошехонье</td>\n",
       "      <td>NaN</td>\n",
       "      <td>NaN</td>\n",
       "      <td>5</td>\n",
       "    </tr>\n",
       "    <tr>\n",
       "      <th>2569683</th>\n",
       "      <td>58</td>\n",
       "      <td>Россия</td>\n",
       "      <td>Санкт-Петербург</td>\n",
       "      <td>NaN</td>\n",
       "      <td>NaN</td>\n",
       "      <td>5</td>\n",
       "    </tr>\n",
       "    <tr>\n",
       "      <th>2657245</th>\n",
       "      <td>60</td>\n",
       "      <td>Россия</td>\n",
       "      <td>Заринск</td>\n",
       "      <td>NaN</td>\n",
       "      <td>NaN</td>\n",
       "      <td>5</td>\n",
       "    </tr>\n",
       "    <tr>\n",
       "      <th>2702840</th>\n",
       "      <td>140</td>\n",
       "      <td>Россия</td>\n",
       "      <td>Орехово-Зуево</td>\n",
       "      <td>NaN</td>\n",
       "      <td>NaN</td>\n",
       "      <td>5</td>\n",
       "    </tr>\n",
       "    <tr>\n",
       "      <th>2706456</th>\n",
       "      <td>61</td>\n",
       "      <td>Россия</td>\n",
       "      <td>Ханты-Мансийск</td>\n",
       "      <td>NaN</td>\n",
       "      <td>NaN</td>\n",
       "      <td>5</td>\n",
       "    </tr>\n",
       "    <tr>\n",
       "      <th>2803554</th>\n",
       "      <td>22</td>\n",
       "      <td>Россия</td>\n",
       "      <td>Тверь</td>\n",
       "      <td>NaN</td>\n",
       "      <td>NaN</td>\n",
       "      <td>5</td>\n",
       "    </tr>\n",
       "    <tr>\n",
       "      <th>2880024</th>\n",
       "      <td>215</td>\n",
       "      <td>Россия</td>\n",
       "      <td>Магнитогорск</td>\n",
       "      <td>NaN</td>\n",
       "      <td>NaN</td>\n",
       "      <td>5</td>\n",
       "    </tr>\n",
       "    <tr>\n",
       "      <th>3028114</th>\n",
       "      <td>141</td>\n",
       "      <td>Россия</td>\n",
       "      <td>Рыбинск</td>\n",
       "      <td>NaN</td>\n",
       "      <td>NaN</td>\n",
       "      <td>5</td>\n",
       "    </tr>\n",
       "    <tr>\n",
       "      <th>3478291</th>\n",
       "      <td>90</td>\n",
       "      <td>Россия</td>\n",
       "      <td>Омск</td>\n",
       "      <td>NaN</td>\n",
       "      <td>NaN</td>\n",
       "      <td>5</td>\n",
       "    </tr>\n",
       "    <tr>\n",
       "      <th>3534055</th>\n",
       "      <td>181</td>\n",
       "      <td>Россия</td>\n",
       "      <td>Санкт-Петербург</td>\n",
       "      <td>NaN</td>\n",
       "      <td>NaN</td>\n",
       "      <td>5</td>\n",
       "    </tr>\n",
       "    <tr>\n",
       "      <th>370030</th>\n",
       "      <td>210</td>\n",
       "      <td>Россия</td>\n",
       "      <td>Екатеринбург</td>\n",
       "      <td>NaN</td>\n",
       "      <td>NaN</td>\n",
       "      <td>5</td>\n",
       "    </tr>\n",
       "    <tr>\n",
       "      <th>377504</th>\n",
       "      <td>111</td>\n",
       "      <td>NaN</td>\n",
       "      <td>NaN</td>\n",
       "      <td>NaN</td>\n",
       "      <td>NaN</td>\n",
       "      <td>5</td>\n",
       "    </tr>\n",
       "    <tr>\n",
       "      <th>3780102</th>\n",
       "      <td>170</td>\n",
       "      <td>Россия</td>\n",
       "      <td>Санкт-Петербург</td>\n",
       "      <td>NaN</td>\n",
       "      <td>NaN</td>\n",
       "      <td>5</td>\n",
       "    </tr>\n",
       "    <tr>\n",
       "      <th>3833104</th>\n",
       "      <td>155</td>\n",
       "      <td>Россия</td>\n",
       "      <td>Санкт-Петербург</td>\n",
       "      <td>Матюшенко</td>\n",
       "      <td>3А</td>\n",
       "      <td>5</td>\n",
       "    </tr>\n",
       "    <tr>\n",
       "      <th>3835786</th>\n",
       "      <td>182</td>\n",
       "      <td>Россия</td>\n",
       "      <td>Санкт-Петербург</td>\n",
       "      <td>Дальневосточный проспект</td>\n",
       "      <td>11/2</td>\n",
       "      <td>5</td>\n",
       "    </tr>\n",
       "    <tr>\n",
       "      <th>3991849</th>\n",
       "      <td>184</td>\n",
       "      <td>Россия</td>\n",
       "      <td>Санкт-Петербург</td>\n",
       "      <td>NaN</td>\n",
       "      <td>NaN</td>\n",
       "      <td>5</td>\n",
       "    </tr>\n",
       "    <tr>\n",
       "      <th>4323520</th>\n",
       "      <td>178</td>\n",
       "      <td>Россия</td>\n",
       "      <td>Москва</td>\n",
       "      <td>NaN</td>\n",
       "      <td>NaN</td>\n",
       "      <td>5</td>\n",
       "    </tr>\n",
       "    <tr>\n",
       "      <th>5018652</th>\n",
       "      <td>83</td>\n",
       "      <td>Россия</td>\n",
       "      <td>Москва</td>\n",
       "      <td>Беломорская</td>\n",
       "      <td>2</td>\n",
       "      <td>5</td>\n",
       "    </tr>\n",
       "    <tr>\n",
       "      <th>5020204</th>\n",
       "      <td>91</td>\n",
       "      <td>Россия</td>\n",
       "      <td>Санкт-Петербург</td>\n",
       "      <td>Выборгское шоссе</td>\n",
       "      <td>NaN</td>\n",
       "      <td>5</td>\n",
       "    </tr>\n",
       "    <tr>\n",
       "      <th>5036506</th>\n",
       "      <td>166</td>\n",
       "      <td>Россия</td>\n",
       "      <td>Санкт-Петербург</td>\n",
       "      <td>NaN</td>\n",
       "      <td>NaN</td>\n",
       "      <td>5</td>\n",
       "    </tr>\n",
       "    <tr>\n",
       "      <th>515559</th>\n",
       "      <td>20</td>\n",
       "      <td>Россия</td>\n",
       "      <td>Тверь</td>\n",
       "      <td>NaN</td>\n",
       "      <td>NaN</td>\n",
       "      <td>5</td>\n",
       "    </tr>\n",
       "    <tr>\n",
       "      <th>521693</th>\n",
       "      <td>21</td>\n",
       "      <td>Россия</td>\n",
       "      <td>Тверь</td>\n",
       "      <td>NaN</td>\n",
       "      <td>NaN</td>\n",
       "      <td>5</td>\n",
       "    </tr>\n",
       "    <tr>\n",
       "      <th>5641712</th>\n",
       "      <td>194</td>\n",
       "      <td>Россия</td>\n",
       "      <td>Новгородская область</td>\n",
       "      <td>NaN</td>\n",
       "      <td>NaN</td>\n",
       "      <td>5</td>\n",
       "    </tr>\n",
       "    <tr>\n",
       "      <th>5680107</th>\n",
       "      <td>107</td>\n",
       "      <td>Россия</td>\n",
       "      <td>Нижний Тагил</td>\n",
       "      <td>Свердловское шоссе</td>\n",
       "      <td>11</td>\n",
       "      <td>5</td>\n",
       "    </tr>\n",
       "    <tr>\n",
       "      <th>5698041</th>\n",
       "      <td>113</td>\n",
       "      <td>Россия</td>\n",
       "      <td>Москва</td>\n",
       "      <td>NaN</td>\n",
       "      <td>NaN</td>\n",
       "      <td>5</td>\n",
       "    </tr>\n",
       "    <tr>\n",
       "      <th>5728307</th>\n",
       "      <td>102</td>\n",
       "      <td>Россия</td>\n",
       "      <td>Москва</td>\n",
       "      <td>NaN</td>\n",
       "      <td>NaN</td>\n",
       "      <td>5</td>\n",
       "    </tr>\n",
       "    <tr>\n",
       "      <th>6776135</th>\n",
       "      <td>97</td>\n",
       "      <td>Россия</td>\n",
       "      <td>Москва</td>\n",
       "      <td>NaN</td>\n",
       "      <td>NaN</td>\n",
       "      <td>5</td>\n",
       "    </tr>\n",
       "    <tr>\n",
       "      <th>7212486</th>\n",
       "      <td>129</td>\n",
       "      <td>Россия</td>\n",
       "      <td>Москва</td>\n",
       "      <td>NaN</td>\n",
       "      <td>NaN</td>\n",
       "      <td>5</td>\n",
       "    </tr>\n",
       "    <tr>\n",
       "      <th>7214162</th>\n",
       "      <td>77</td>\n",
       "      <td>Россия</td>\n",
       "      <td>Коломна</td>\n",
       "      <td>Октябрьский проспект</td>\n",
       "      <td>139Б</td>\n",
       "      <td>5</td>\n",
       "    </tr>\n",
       "    <tr>\n",
       "      <th>7273146</th>\n",
       "      <td>78</td>\n",
       "      <td>Россия</td>\n",
       "      <td>Москва</td>\n",
       "      <td>Алтуфьевское шоссе вл. 106</td>\n",
       "      <td>106</td>\n",
       "      <td>5</td>\n",
       "    </tr>\n",
       "    <tr>\n",
       "      <th>8075848</th>\n",
       "      <td>95</td>\n",
       "      <td>Россия</td>\n",
       "      <td>Долгопрудный</td>\n",
       "      <td>Новое шоссе</td>\n",
       "      <td>54Д</td>\n",
       "      <td>5</td>\n",
       "    </tr>\n",
       "    <tr>\n",
       "      <th>8286573</th>\n",
       "      <td>73</td>\n",
       "      <td>Россия</td>\n",
       "      <td>Яхрома</td>\n",
       "      <td>Подолинская</td>\n",
       "      <td>-</td>\n",
       "      <td>5</td>\n",
       "    </tr>\n",
       "    <tr>\n",
       "      <th>8623749</th>\n",
       "      <td>36</td>\n",
       "      <td>Россия</td>\n",
       "      <td>Шацкий район</td>\n",
       "      <td>деревня Мишутино</td>\n",
       "      <td>340 км</td>\n",
       "      <td>5</td>\n",
       "    </tr>\n",
       "    <tr>\n",
       "      <th>8804114</th>\n",
       "      <td>41</td>\n",
       "      <td>Россия</td>\n",
       "      <td>Владимир</td>\n",
       "      <td>Собинка, м7</td>\n",
       "      <td>155-170км, правая сторона</td>\n",
       "      <td>5</td>\n",
       "    </tr>\n",
       "    <tr>\n",
       "      <th>8931697</th>\n",
       "      <td>15</td>\n",
       "      <td>Россия</td>\n",
       "      <td>Калуга</td>\n",
       "      <td>Грабцевское шоссе</td>\n",
       "      <td>71А</td>\n",
       "      <td>5</td>\n",
       "    </tr>\n",
       "    <tr>\n",
       "      <th>922019</th>\n",
       "      <td>168</td>\n",
       "      <td>Россия</td>\n",
       "      <td>Санкт-Петербург</td>\n",
       "      <td>NaN</td>\n",
       "      <td>NaN</td>\n",
       "      <td>5</td>\n",
       "    </tr>\n",
       "    <tr>\n",
       "      <th>9271249</th>\n",
       "      <td>117</td>\n",
       "      <td>Москва</td>\n",
       "      <td>Россия</td>\n",
       "      <td>Ярославское шоссе</td>\n",
       "      <td>25-й километр</td>\n",
       "      <td>5</td>\n",
       "    </tr>\n",
       "    <tr>\n",
       "      <th>9480498</th>\n",
       "      <td>46</td>\n",
       "      <td>Россия</td>\n",
       "      <td>Нижний Новгород</td>\n",
       "      <td>Героя Попова</td>\n",
       "      <td>38</td>\n",
       "      <td>5</td>\n",
       "    </tr>\n",
       "  </tbody>\n",
       "</table>\n",
       "</div>"
      ],
      "text/plain": [
       "         number_station country_station          city_station  \\\n",
       "1345343             172             NaN                   NaN   \n",
       "1386901             196          Россия       Санкт-Петербург   \n",
       "1404528             173             NaN                   NaN   \n",
       "1467907              53             NaN                   NaN   \n",
       "1749938              54          Россия                Москва   \n",
       "1934126             147          Россия                Шатура   \n",
       "2067184             175          Россия                Москва   \n",
       "2131108             114          Россия             Пошехонье   \n",
       "2347195             150          Россия             Пошехонье   \n",
       "2569683              58          Россия       Санкт-Петербург   \n",
       "2657245              60          Россия               Заринск   \n",
       "2702840             140          Россия         Орехово-Зуево   \n",
       "2706456              61          Россия        Ханты-Мансийск   \n",
       "2803554              22          Россия                 Тверь   \n",
       "2880024             215          Россия          Магнитогорск   \n",
       "3028114             141          Россия               Рыбинск   \n",
       "3478291              90          Россия                  Омск   \n",
       "3534055             181          Россия       Санкт-Петербург   \n",
       "370030              210          Россия          Екатеринбург   \n",
       "377504              111             NaN                   NaN   \n",
       "3780102             170          Россия       Санкт-Петербург   \n",
       "3833104             155          Россия       Санкт-Петербург   \n",
       "3835786             182          Россия       Санкт-Петербург   \n",
       "3991849             184          Россия       Санкт-Петербург   \n",
       "4323520             178          Россия                Москва   \n",
       "5018652              83          Россия                Москва   \n",
       "5020204              91          Россия       Санкт-Петербург   \n",
       "5036506             166          Россия       Санкт-Петербург   \n",
       "515559               20          Россия                 Тверь   \n",
       "521693               21          Россия                 Тверь   \n",
       "5641712             194          Россия  Новгородская область   \n",
       "5680107             107          Россия          Нижний Тагил   \n",
       "5698041             113          Россия                Москва   \n",
       "5728307             102          Россия                Москва   \n",
       "6776135              97          Россия                Москва   \n",
       "7212486             129          Россия                Москва   \n",
       "7214162              77          Россия               Коломна   \n",
       "7273146              78          Россия                Москва   \n",
       "8075848              95          Россия          Долгопрудный   \n",
       "8286573              73          Россия                Яхрома   \n",
       "8623749              36          Россия          Шацкий район   \n",
       "8804114              41          Россия              Владимир   \n",
       "8931697              15          Россия                Калуга   \n",
       "922019              168          Россия       Санкт-Петербург   \n",
       "9271249             117          Москва                Россия   \n",
       "9480498              46          Россия       Нижний Новгород   \n",
       "\n",
       "                     street_station              house_station result_rating  \n",
       "1345343                         NaN                        NaN             5  \n",
       "1386901                 десантников                         21             5  \n",
       "1404528                         NaN                        NaN             5  \n",
       "1467907                         NaN                        NaN             5  \n",
       "1749938                         NaN                        NaN             5  \n",
       "1934126                  Пр. Ильича                         66             5  \n",
       "2067184                         NaN                        NaN             5  \n",
       "2131108                         NaN                        NaN             5  \n",
       "2347195                         NaN                        NaN             5  \n",
       "2569683                         NaN                        NaN             5  \n",
       "2657245                         NaN                        NaN             5  \n",
       "2702840                         NaN                        NaN             5  \n",
       "2706456                         NaN                        NaN             5  \n",
       "2803554                         NaN                        NaN             5  \n",
       "2880024                         NaN                        NaN             5  \n",
       "3028114                         NaN                        NaN             5  \n",
       "3478291                         NaN                        NaN             5  \n",
       "3534055                         NaN                        NaN             5  \n",
       "370030                          NaN                        NaN             5  \n",
       "377504                          NaN                        NaN             5  \n",
       "3780102                         NaN                        NaN             5  \n",
       "3833104                   Матюшенко                         3А             5  \n",
       "3835786    Дальневосточный проспект                       11/2             5  \n",
       "3991849                         NaN                        NaN             5  \n",
       "4323520                         NaN                        NaN             5  \n",
       "5018652                 Беломорская                          2             5  \n",
       "5020204            Выборгское шоссе                        NaN             5  \n",
       "5036506                         NaN                        NaN             5  \n",
       "515559                          NaN                        NaN             5  \n",
       "521693                          NaN                        NaN             5  \n",
       "5641712                         NaN                        NaN             5  \n",
       "5680107          Свердловское шоссе                         11             5  \n",
       "5698041                         NaN                        NaN             5  \n",
       "5728307                         NaN                        NaN             5  \n",
       "6776135                         NaN                        NaN             5  \n",
       "7212486                         NaN                        NaN             5  \n",
       "7214162        Октябрьский проспект                       139Б             5  \n",
       "7273146  Алтуфьевское шоссе вл. 106                        106             5  \n",
       "8075848                 Новое шоссе                        54Д             5  \n",
       "8286573                 Подолинская                          -             5  \n",
       "8623749            деревня Мишутино                     340 км             5  \n",
       "8804114                 Собинка, м7  155-170км, правая сторона             5  \n",
       "8931697           Грабцевское шоссе                        71А             5  \n",
       "922019                          NaN                        NaN             5  \n",
       "9271249           Ярославское шоссе              25-й километр             5  \n",
       "9480498                Героя Попова                         38             5  "
      ]
     },
     "execution_count": 380,
     "metadata": {},
     "output_type": "execute_result"
    }
   ],
   "source": [
    "best_marks_station"
   ]
  },
  {
   "cell_type": "markdown",
   "metadata": {},
   "source": [
    "### Change reviews over time"
   ]
  },
  {
   "cell_type": "code",
   "execution_count": 455,
   "metadata": {},
   "outputs": [],
   "source": [
    "data['pred_neg'] = data['pred_neg'].fillna(2)"
   ]
  },
  {
   "cell_type": "code",
   "execution_count": 456,
   "metadata": {},
   "outputs": [],
   "source": [
    "dict_pred = {0:'other fail reviews', 1:'oil fail reviews', 2:'positive reviews'}"
   ]
  },
  {
   "cell_type": "code",
   "execution_count": 457,
   "metadata": {},
   "outputs": [],
   "source": [
    "data = data.replace({'pred_neg': dict_pred})"
   ]
  },
  {
   "cell_type": "code",
   "execution_count": 458,
   "metadata": {},
   "outputs": [],
   "source": [
    "data['date_review'] = pd.to_datetime(data['date_review'])"
   ]
  },
  {
   "cell_type": "code",
   "execution_count": 459,
   "metadata": {},
   "outputs": [],
   "source": [
    "drow_data = data.groupby(data['date_review'].map(lambda x: x.year))['pred_neg'].value_counts()"
   ]
  },
  {
   "cell_type": "code",
   "execution_count": 460,
   "metadata": {},
   "outputs": [
    {
     "data": {
      "image/png": "[encoded data removed]",
      "text/plain": [
       "<Figure size 1440x576 with 1 Axes>"
      ]
     },
     "metadata": {
      "image/png": {
       "height": 516,
       "width": 1181
      }
     },
     "output_type": "display_data"
    }
   ],
   "source": [
    "drow_data.unstack(level=1).plot(kind='line', subplots=False, figsize=(20,8), title='Change reviews over time');"
   ]
  },
  {
   "cell_type": "code",
   "execution_count": null,
   "metadata": {},
   "outputs": [],
   "source": [
    "# Hичего необычного не замечено, кроме роста в 2018 почти в 2 раза\n",
    "# количества негативных отзывов связанных с сервисом (цены, персонал, маркетинг)\n",
    "# Рост общего количества отзывов с 2013 по 2016 скорее всего связан или с ростом\n",
    "# сети заправок, или с ростом популярности https://otzovik.com "
   ]
  },
  {
   "cell_type": "markdown",
   "metadata": {},
   "source": [
    "### Other dependencies"
   ]
  },
  {
   "cell_type": "code",
   "execution_count": 474,
   "metadata": {},
   "outputs": [
    {
     "data": {
      "text/plain": [
       "pred_neg            hometown\n",
       "oil fail reviews    1.0         34\n",
       "                    0.0         32\n",
       "other fail reviews  1.0         38\n",
       "                    0.0         25\n",
       "positive reviews    0.0         53\n",
       "                    1.0         49\n",
       "Name: hometown, dtype: int64"
      ]
     },
     "execution_count": 474,
     "metadata": {},
     "output_type": "execute_result"
    }
   ],
   "source": [
    "data.groupby('pred_neg')['hometown'].value_counts()"
   ]
  },
  {
   "cell_type": "code",
   "execution_count": 486,
   "metadata": {},
   "outputs": [
    {
     "data": {
      "text/plain": [
       "0.6031746031746031"
      ]
     },
     "execution_count": 486,
     "metadata": {},
     "output_type": "execute_result"
    }
   ],
   "source": [
    "38/(38+25) # иногородние на 60% чаще жалуются на сервис, по сравнению с местными =)"
   ]
  },
  {
   "cell_type": "code",
   "execution_count": 484,
   "metadata": {},
   "outputs": [],
   "source": [
    "data['user_karma'] = data['user_karma'].astype(int)"
   ]
  },
  {
   "cell_type": "code",
   "execution_count": 489,
   "metadata": {},
   "outputs": [],
   "source": [
    "data.loc[data['user_karma']>5, 'new_karma'] = 'good_carma'\n",
    "data.loc[(data['user_karma']<5)&(data['user_karma']>=0), 'new_karma'] = 'norm_carma'\n",
    "data.loc[data['user_karma']<0, 'new_karma'] = 'bad_carma'"
   ]
  },
  {
   "cell_type": "code",
   "execution_count": 491,
   "metadata": {},
   "outputs": [
    {
     "data": {
      "text/plain": [
       "pred_neg            new_karma \n",
       "oil fail reviews    norm_carma    48\n",
       "                    good_carma    15\n",
       "                    bad_carma      1\n",
       "other fail reviews  norm_carma    43\n",
       "                    good_carma    18\n",
       "                    bad_carma      1\n",
       "positive reviews    good_carma    70\n",
       "                    norm_carma    27\n",
       "                    bad_carma      2\n",
       "Name: new_karma, dtype: int64"
      ]
     },
     "execution_count": 491,
     "metadata": {},
     "output_type": "execute_result"
    }
   ],
   "source": [
    "data.groupby('pred_neg')['new_karma'].value_counts()"
   ]
  },
  {
   "cell_type": "code",
   "execution_count": null,
   "metadata": {},
   "outputs": [],
   "source": [
    "# ничего необычного не замечено"
   ]
  },
  {
   "cell_type": "code",
   "execution_count": 496,
   "metadata": {},
   "outputs": [],
   "source": [
    "data.loc[data['city_station']=='Санкт-Петербург', 'big_city_label'] = 'Санкт-Петербург'\n",
    "data.loc[data['city_station']=='Москва', 'big_city_label'] = 'Москва'\n",
    "data['big_city_label'] = data['big_city_label'].fillna('other city')"
   ]
  },
  {
   "cell_type": "code",
   "execution_count": 498,
   "metadata": {},
   "outputs": [
    {
     "data": {
      "text/plain": [
       "pred_neg            big_city_label \n",
       "oil fail reviews    other city         43\n",
       "                    Санкт-Петербург    12\n",
       "                    Москва             11\n",
       "other fail reviews  other city         35\n",
       "                    Москва             17\n",
       "                    Санкт-Петербург    11\n",
       "positive reviews    other city         57\n",
       "                    Москва             24\n",
       "                    Санкт-Петербург    21\n",
       "Name: big_city_label, dtype: int64"
      ]
     },
     "execution_count": 498,
     "metadata": {},
     "output_type": "execute_result"
    }
   ],
   "source": [
    "data.groupby('pred_neg')['big_city_label'].value_counts()"
   ]
  },
  {
   "cell_type": "code",
   "execution_count": 502,
   "metadata": {},
   "outputs": [
    {
     "data": {
      "text/plain": [
       "0.6515151515151515"
      ]
     },
     "execution_count": 502,
     "metadata": {},
     "output_type": "execute_result"
    }
   ],
   "source": [
    "43/(12+11+43)"
   ]
  },
  {
   "cell_type": "code",
   "execution_count": 503,
   "metadata": {},
   "outputs": [
    {
     "data": {
      "text/plain": [
       "0.5555555555555556"
      ]
     },
     "execution_count": 503,
     "metadata": {},
     "output_type": "execute_result"
    }
   ],
   "source": [
    "35/(35+17+11)"
   ]
  },
  {
   "cell_type": "code",
   "execution_count": 504,
   "metadata": {},
   "outputs": [
    {
     "data": {
      "text/plain": [
       "0.5588235294117647"
      ]
     },
     "execution_count": 504,
     "metadata": {},
     "output_type": "execute_result"
    }
   ],
   "source": [
    "57/(57+24+21)"
   ]
  },
  {
   "cell_type": "code",
   "execution_count": 506,
   "metadata": {},
   "outputs": [
    {
     "data": {
      "text/plain": [
       "other city         135\n",
       "Москва              52\n",
       "Санкт-Петербург     44\n",
       "Name: big_city_label, dtype: int64"
      ]
     },
     "execution_count": 506,
     "metadata": {},
     "output_type": "execute_result"
    }
   ],
   "source": [
    "data['big_city_label'].value_counts()"
   ]
  },
  {
   "cell_type": "code",
   "execution_count": null,
   "metadata": {},
   "outputs": [],
   "source": [
    "# На некачественное топливо в регионах жалуются чаще на 10% в сравнении с другими отзывами"
   ]
  }
 ],
 "metadata": {
  "kernelspec": {
   "display_name": "Python 3",
   "language": "python",
   "name": "python3"
  },
  "language_info": {
   "codemirror_mode": {
    "name": "ipython",
    "version": 3
   },
   "file_extension": ".py",
   "mimetype": "text/x-python",
   "name": "python",
   "nbconvert_exporter": "python",
   "pygments_lexer": "ipython3",
   "version": "3.7.4"
  }
 },
 "nbformat": 4,
 "nbformat_minor": 2
}
